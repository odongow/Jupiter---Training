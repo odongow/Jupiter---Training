{
 "cells": [
  {
   "cell_type": "markdown",
   "metadata": {},
   "source": [
    "# Extract PHI Conference Workshop Materials"
   ]
  },
  {
   "cell_type": "markdown",
   "metadata": {},
   "source": [
    "Let's list the files in the current directory. You should see a file named `Cholera-Case-Study.zip`."
   ]
  },
  {
   "cell_type": "code",
   "execution_count": 1,
   "metadata": {},
   "outputs": [
    {
     "name": "stdout",
     "output_type": "stream",
     "text": [
      "total 38848\n",
      "drwxrwxrwx 3 jovyan users     4096 Aug 16 14:57 .\n",
      "drwsrwsr-x 6 jovyan users     4096 Aug 16 15:25 ..\n",
      "-rw-r--r-- 1 jovyan users 39720556 Aug 16 15:01 Cholera-Case-Study.zip\n",
      "drwxr-xr-x 2 jovyan users     4096 Aug 16 14:56 .ipynb_checkpoints\n",
      "-rw-r--r-- 1 jovyan users    32856 Aug 16 14:56 PHI-Conference-2018.ipynb\n",
      "-rw-rw-rw- 1 jovyan users       46 Aug 15 23:20 README.md\n"
     ]
    }
   ],
   "source": [
    "%%bash\n",
    "ls -la"
   ]
  },
  {
   "cell_type": "markdown",
   "metadata": {},
   "source": [
    "Let's remove the current `PHI-Conference-2018` directory under `notebooks`."
   ]
  },
  {
   "cell_type": "code",
   "execution_count": 2,
   "metadata": {},
   "outputs": [],
   "source": [
    "%%bash\n",
    "rm -fvR ../notebooks/PHI-Conference-2018/"
   ]
  },
  {
   "cell_type": "markdown",
   "metadata": {},
   "source": [
    "Let's now unzip the `Cholera-Case-Study.zip` in the `notebooks` directory."
   ]
  },
  {
   "cell_type": "code",
   "execution_count": 3,
   "metadata": {},
   "outputs": [
    {
     "name": "stdout",
     "output_type": "stream",
     "text": [
      "Archive:  Cholera-Case-Study.zip\n",
      "warning:  skipped \"../\" path component(s) in ../../PHI-Conference-2018/\n",
      "   creating: ../notebooks/PHI-Conference-2018/\n",
      "warning:  skipped \"../\" path component(s) in ../../PHI-Conference-2018/Exercise-Notebooks/\n",
      "   creating: ../notebooks/PHI-Conference-2018/Exercise-Notebooks/\n",
      "warning:  skipped \"../\" path component(s) in ../../PHI-Conference-2018/Exercise-Notebooks/data/\n",
      "   creating: ../notebooks/PHI-Conference-2018/Exercise-Notebooks/data/\n",
      "warning:  skipped \"../\" path component(s) in ../../PHI-Conference-2018/Exercise-Notebooks/data/us-states.json\n",
      "  inflating: ../notebooks/PHI-Conference-2018/Exercise-Notebooks/data/us-states.json  \n",
      "warning:  skipped \"../\" path component(s) in ../../PHI-Conference-2018/Exercise-Notebooks/data/us_pop_landscan2015.csv\n",
      "  inflating: ../notebooks/PHI-Conference-2018/Exercise-Notebooks/data/us_pop_landscan2015.csv  \n",
      "warning:  skipped \"../\" path component(s) in ../../PHI-Conference-2018/Exercise-Notebooks/data/us_states.geojson\n",
      "  inflating: ../notebooks/PHI-Conference-2018/Exercise-Notebooks/data/us_states.geojson  \n",
      "warning:  skipped \"../\" path component(s) in ../../PHI-Conference-2018/Exercise-Notebooks/.ipynb_checkpoints/\n",
      "   creating: ../notebooks/PHI-Conference-2018/Exercise-Notebooks/.ipynb_checkpoints/\n",
      "warning:  skipped \"../\" path component(s) in ../../PHI-Conference-2018/Exercise-Notebooks/.ipynb_checkpoints/NB01-Markdown-Exercise1-checkpoint.ipynb\n",
      "  inflating: ../notebooks/PHI-Conference-2018/Exercise-Notebooks/.ipynb_checkpoints/NB01-Markdown-Exercise1-checkpoint.ipynb  \n",
      "warning:  skipped \"../\" path component(s) in ../../PHI-Conference-2018/Exercise-Notebooks/.ipynb_checkpoints/NB02-Markdown-Exercise2-checkpoint.ipynb\n",
      "  inflating: ../notebooks/PHI-Conference-2018/Exercise-Notebooks/.ipynb_checkpoints/NB02-Markdown-Exercise2-checkpoint.ipynb  \n",
      "warning:  skipped \"../\" path component(s) in ../../PHI-Conference-2018/Exercise-Notebooks/.ipynb_checkpoints/NB03-Data-Management-checkpoint.ipynb\n",
      "  inflating: ../notebooks/PHI-Conference-2018/Exercise-Notebooks/.ipynb_checkpoints/NB03-Data-Management-checkpoint.ipynb  \n",
      "warning:  skipped \"../\" path component(s) in ../../PHI-Conference-2018/Exercise-Notebooks/.ipynb_checkpoints/NB04-Data-Visualization-checkpoint.ipynb\n",
      "  inflating: ../notebooks/PHI-Conference-2018/Exercise-Notebooks/.ipynb_checkpoints/NB04-Data-Visualization-checkpoint.ipynb  \n",
      "warning:  skipped \"../\" path component(s) in ../../PHI-Conference-2018/Exercise-Notebooks/.ipynb_checkpoints/Design-Thinking-Notebook-checkpoint.ipynb\n",
      "  inflating: ../notebooks/PHI-Conference-2018/Exercise-Notebooks/.ipynb_checkpoints/Design-Thinking-Notebook-checkpoint.ipynb  \n",
      "warning:  skipped \"../\" path component(s) in ../../PHI-Conference-2018/Exercise-Notebooks/.ipynb_checkpoints/NB05-Social-Network-Dr-John-Snow-checkpoint.ipynb\n",
      "  inflating: ../notebooks/PHI-Conference-2018/Exercise-Notebooks/.ipynb_checkpoints/NB05-Social-Network-Dr-John-Snow-checkpoint.ipynb  \n",
      "warning:  skipped \"../\" path component(s) in ../../PHI-Conference-2018/Exercise-Notebooks/.ipynb_checkpoints/NB04-Data-Visualization-Copy1-checkpoint.ipynb\n",
      "  inflating: ../notebooks/PHI-Conference-2018/Exercise-Notebooks/.ipynb_checkpoints/NB04-Data-Visualization-Copy1-checkpoint.ipynb  \n",
      "warning:  skipped \"../\" path component(s) in ../../PHI-Conference-2018/Exercise-Notebooks/images/\n",
      "   creating: ../notebooks/PHI-Conference-2018/Exercise-Notebooks/images/\n",
      "warning:  skipped \"../\" path component(s) in ../../PHI-Conference-2018/Exercise-Notebooks/images/.ipynb_checkpoints/\n",
      "   creating: ../notebooks/PHI-Conference-2018/Exercise-Notebooks/images/.ipynb_checkpoints/\n",
      "warning:  skipped \"../\" path component(s) in ../../PHI-Conference-2018/Exercise-Notebooks/images/TimBrown.png\n",
      "  inflating: ../notebooks/PHI-Conference-2018/Exercise-Notebooks/images/TimBrown.png  \n",
      "warning:  skipped \"../\" path component(s) in ../../PHI-Conference-2018/Exercise-Notebooks/images/Edmund_Alexander_Parkes.jpg\n",
      "  inflating: ../notebooks/PHI-Conference-2018/Exercise-Notebooks/images/Edmund_Alexander_Parkes.jpg  \n",
      "warning:  skipped \"../\" path component(s) in ../../PHI-Conference-2018/Exercise-Notebooks/images/John_Snow.jpg\n",
      "  inflating: ../notebooks/PHI-Conference-2018/Exercise-Notebooks/images/John_Snow.jpg  \n",
      "warning:  skipped \"../\" path component(s) in ../../PHI-Conference-2018/Exercise-Notebooks/images/Edwin_Lankester.jpg\n",
      "  inflating: ../notebooks/PHI-Conference-2018/Exercise-Notebooks/images/Edwin_Lankester.jpg  \n",
      "warning:  skipped \"../\" path component(s) in ../../PHI-Conference-2018/Exercise-Notebooks/images/Florence_Nightingale.jpg\n",
      "  inflating: ../notebooks/PHI-Conference-2018/Exercise-Notebooks/images/Florence_Nightingale.jpg  \n",
      "warning:  skipped \"../\" path component(s) in ../../PHI-Conference-2018/Exercise-Notebooks/images/John_Simon.jpg\n",
      "  inflating: ../notebooks/PHI-Conference-2018/Exercise-Notebooks/images/John_Simon.jpg  \n",
      "warning:  skipped \"../\" path component(s) in ../../PHI-Conference-2018/Exercise-Notebooks/images/Queen_Victoria.jpg\n",
      "  inflating: ../notebooks/PHI-Conference-2018/Exercise-Notebooks/images/Queen_Victoria.jpg  \n",
      "warning:  skipped \"../\" path component(s) in ../../PHI-Conference-2018/Exercise-Notebooks/images/Whitehead_henry1884.jpg\n",
      "  inflating: ../notebooks/PHI-Conference-2018/Exercise-Notebooks/images/Whitehead_henry1884.jpg  \n",
      "warning:  skipped \"../\" path component(s) in ../../PHI-Conference-2018/Exercise-Notebooks/images/Sir_Edwin_Chadwick2.jpg\n",
      "  inflating: ../notebooks/PHI-Conference-2018/Exercise-Notebooks/images/Sir_Edwin_Chadwick2.jpg  \n",
      "warning:  skipped \"../\" path component(s) in ../../PHI-Conference-2018/Exercise-Notebooks/images/William_Farr.jpg\n",
      "  inflating: ../notebooks/PHI-Conference-2018/Exercise-Notebooks/images/William_Farr.jpg  \n",
      "warning:  skipped \"../\" path component(s) in ../../PHI-Conference-2018/Exercise-Notebooks/images/map_1.png\n",
      "  inflating: ../notebooks/PHI-Conference-2018/Exercise-Notebooks/images/map_1.png  \n",
      "warning:  skipped \"../\" path component(s) in ../../PHI-Conference-2018/Exercise-Notebooks/images/Jupyter_files.jpg\n",
      "  inflating: ../notebooks/PHI-Conference-2018/Exercise-Notebooks/images/Jupyter_files.jpg  \n",
      "warning:  skipped \"../\" path component(s) in ../../PHI-Conference-2018/Exercise-Notebooks/images/Jupyter_files3.JPG\n",
      "  inflating: ../notebooks/PHI-Conference-2018/Exercise-Notebooks/images/Jupyter_files3.JPG  \n",
      "warning:  skipped \"../\" path component(s) in ../../PHI-Conference-2018/Exercise-Notebooks/resources/\n",
      "   creating: ../notebooks/PHI-Conference-2018/Exercise-Notebooks/resources/\n",
      "warning:  skipped \"../\" path component(s) in ../../PHI-Conference-2018/Exercise-Notebooks/resources/library.py\n",
      "  inflating: ../notebooks/PHI-Conference-2018/Exercise-Notebooks/resources/library.py  \n",
      "warning:  skipped \"../\" path component(s) in ../../PHI-Conference-2018/Exercise-Notebooks/resources/style.css\n",
      "  inflating: ../notebooks/PHI-Conference-2018/Exercise-Notebooks/resources/style.css  \n",
      "warning:  skipped \"../\" path component(s) in ../../PHI-Conference-2018/Exercise-Notebooks/resources/.ipynb_checkpoints/\n",
      "   creating: ../notebooks/PHI-Conference-2018/Exercise-Notebooks/resources/.ipynb_checkpoints/\n",
      "warning:  skipped \"../\" path component(s) in ../../PHI-Conference-2018/Exercise-Notebooks/resources/journal.pone.0186744.pdf\n",
      "  inflating: ../notebooks/PHI-Conference-2018/Exercise-Notebooks/resources/journal.pone.0186744.pdf  \n",
      "warning:  skipped \"../\" path component(s) in ../../PHI-Conference-2018/Exercise-Notebooks/resources/John_Snow_Social_Network_1854.csv\n",
      "  inflating: ../notebooks/PHI-Conference-2018/Exercise-Notebooks/resources/John_Snow_Social_Network_1854.csv  \n",
      "warning:  skipped \"../\" path component(s) in ../../PHI-Conference-2018/Exercise-Notebooks/resources/John_Snow_Social_Network_1854.xls\n",
      "  inflating: ../notebooks/PHI-Conference-2018/Exercise-Notebooks/resources/John_Snow_Social_Network_1854.xls  \n",
      "warning:  skipped \"../\" path component(s) in ../../PHI-Conference-2018/Exercise-Notebooks/resources/cholera_deaths.csv\n",
      "  inflating: ../notebooks/PHI-Conference-2018/Exercise-Notebooks/resources/cholera_deaths.csv  \n",
      "warning:  skipped \"../\" path component(s) in ../../PHI-Conference-2018/Exercise-Notebooks/resources/johnsnow.csv\n",
      "  inflating: ../notebooks/PHI-Conference-2018/Exercise-Notebooks/resources/johnsnow.csv  \n",
      "warning:  skipped \"../\" path component(s) in ../../PHI-Conference-2018/Exercise-Notebooks/resources/johnsnow_pumps.csv\n",
      "  inflating: ../notebooks/PHI-Conference-2018/Exercise-Notebooks/resources/johnsnow_pumps.csv  \n",
      "warning:  skipped \"../\" path component(s) in ../../PHI-Conference-2018/Exercise-Notebooks/resources/deaths_df.pickle\n",
      "  inflating: ../notebooks/PHI-Conference-2018/Exercise-Notebooks/resources/deaths_df.pickle  \n",
      "warning:  skipped \"../\" path component(s) in ../../PHI-Conference-2018/Exercise-Notebooks/resources/pumps_df.pickle\n",
      "  inflating: ../notebooks/PHI-Conference-2018/Exercise-Notebooks/resources/pumps_df.pickle  \n",
      "warning:  skipped \"../\" path component(s) in ../../PHI-Conference-2018/Exercise-Notebooks/resources/mean_center_df.pickle\n",
      "  inflating: ../notebooks/PHI-Conference-2018/Exercise-Notebooks/resources/mean_center_df.pickle  \n",
      "warning:  skipped \"../\" path component(s) in ../../PHI-Conference-2018/Exercise-Notebooks/resources/John_Snow_Social_Network_1854_v2.xls\n",
      "  inflating: ../notebooks/PHI-Conference-2018/Exercise-Notebooks/resources/John_Snow_Social_Network_1854_v2.xls  \n",
      "warning:  skipped \"../\" path component(s) in ../../PHI-Conference-2018/Exercise-Notebooks/resources/John_Snow_Social_Network_1854_v3.xls\n",
      "  inflating: ../notebooks/PHI-Conference-2018/Exercise-Notebooks/resources/John_Snow_Social_Network_1854_v3.xls  \n",
      "warning:  skipped \"../\" path component(s) in ../../PHI-Conference-2018/Exercise-Notebooks/resources/John_Snow_Social_Network_1854_v4.xls\n",
      "  inflating: ../notebooks/PHI-Conference-2018/Exercise-Notebooks/resources/John_Snow_Social_Network_1854_v4.xls  \n",
      "warning:  skipped \"../\" path component(s) in ../../PHI-Conference-2018/Exercise-Notebooks/resources/Whitehead_henry1884.jpg\n",
      "  inflating: ../notebooks/PHI-Conference-2018/Exercise-Notebooks/resources/Whitehead_henry1884.jpg  \n",
      "warning:  skipped \"../\" path component(s) in ../../PHI-Conference-2018/Exercise-Notebooks/resources/John_Snow_Social_Network_1854_v5.xls\n",
      "  inflating: ../notebooks/PHI-Conference-2018/Exercise-Notebooks/resources/John_Snow_Social_Network_1854_v5.xls  \n",
      "warning:  skipped \"../\" path component(s) in ../../PHI-Conference-2018/Exercise-Notebooks/resources/John_Snow_Social_Network_1854_v6.xls\n",
      "  inflating: ../notebooks/PHI-Conference-2018/Exercise-Notebooks/resources/John_Snow_Social_Network_1854_v6.xls  \n",
      "warning:  skipped \"../\" path component(s) in ../../PHI-Conference-2018/Exercise-Notebooks/resources/Heatmap.html\n",
      "  inflating: ../notebooks/PHI-Conference-2018/Exercise-Notebooks/resources/Heatmap.html  \n",
      "warning:  skipped \"../\" path component(s) in ../../PHI-Conference-2018/Exercise-Notebooks/resources/John_Snow_Social_Network_1854_v7.xls\n",
      "  inflating: ../notebooks/PHI-Conference-2018/Exercise-Notebooks/resources/John_Snow_Social_Network_1854_v7.xls  \n",
      "warning:  skipped \"../\" path component(s) in ../../PHI-Conference-2018/Exercise-Notebooks/resources/Colormaps_0.html\n",
      " extracting: ../notebooks/PHI-Conference-2018/Exercise-Notebooks/resources/Colormaps_0.html  \n",
      "warning:  skipped \"../\" path component(s) in ../../PHI-Conference-2018/Exercise-Notebooks/NB01-Markdown-Exercise1.ipynb\n",
      "  inflating: ../notebooks/PHI-Conference-2018/Exercise-Notebooks/NB01-Markdown-Exercise1.ipynb  \n",
      "warning:  skipped \"../\" path component(s) in ../../PHI-Conference-2018/Exercise-Notebooks/NB02-Markdown-Exercise2.ipynb\n",
      "  inflating: ../notebooks/PHI-Conference-2018/Exercise-Notebooks/NB02-Markdown-Exercise2.ipynb  \n",
      "warning:  skipped \"../\" path component(s) in ../../PHI-Conference-2018/Exercise-Notebooks/NB03-Data-Management.ipynb\n",
      "  inflating: ../notebooks/PHI-Conference-2018/Exercise-Notebooks/NB03-Data-Management.ipynb  \n",
      "warning:  skipped \"../\" path component(s) in ../../PHI-Conference-2018/Exercise-Notebooks/NB04-Data-Visualization.ipynb\n",
      "  inflating: ../notebooks/PHI-Conference-2018/Exercise-Notebooks/NB04-Data-Visualization.ipynb  \n",
      "warning:  skipped \"../\" path component(s) in ../../PHI-Conference-2018/Exercise-Notebooks/Design-Thinking-Notebook.ipynb\n",
      "  inflating: ../notebooks/PHI-Conference-2018/Exercise-Notebooks/Design-Thinking-Notebook.ipynb  \n",
      "warning:  skipped \"../\" path component(s) in ../../PHI-Conference-2018/Exercise-Notebooks/NB05-Social-Network-Dr-John-Snow.ipynb\n",
      "  inflating: ../notebooks/PHI-Conference-2018/Exercise-Notebooks/NB05-Social-Network-Dr-John-Snow.ipynb  \n",
      "warning:  skipped \"../\" path component(s) in ../../PHI-Conference-2018/Exercise-Notebooks/graph.json\n",
      "  inflating: ../notebooks/PHI-Conference-2018/Exercise-Notebooks/graph.json  \n",
      "warning:  skipped \"../\" path component(s) in ../../PHI-Conference-2018/Exercise-Notebooks/NB04-Data-Visualization-Copy1.ipynb\n",
      "  inflating: ../notebooks/PHI-Conference-2018/Exercise-Notebooks/NB04-Data-Visualization-Copy1.ipynb  \n",
      "warning:  skipped \"../\" path component(s) in ../../PHI-Conference-2018/.ipynb_checkpoints/\n",
      "   creating: ../notebooks/PHI-Conference-2018/.ipynb_checkpoints/\n",
      "warning:  skipped \"../\" path component(s) in ../../PHI-Conference-2018/.ipynb_checkpoints/README-checkpoint.ipynb\n",
      "  inflating: ../notebooks/PHI-Conference-2018/.ipynb_checkpoints/README-checkpoint.ipynb  \n",
      "warning:  skipped \"../\" path component(s) in ../../PHI-Conference-2018/Cholera-Case-Study/\n",
      "   creating: ../notebooks/PHI-Conference-2018/Cholera-Case-Study/\n",
      "warning:  skipped \"../\" path component(s) in ../../PHI-Conference-2018/Cholera-Case-Study/data/\n",
      "   creating: ../notebooks/PHI-Conference-2018/Cholera-Case-Study/data/\n",
      "warning:  skipped \"../\" path component(s) in ../../PHI-Conference-2018/Cholera-Case-Study/data/.ipynb_checkpoints/\n",
      "   creating: ../notebooks/PHI-Conference-2018/Cholera-Case-Study/data/.ipynb_checkpoints/\n",
      "warning:  skipped \"../\" path component(s) in ../../PHI-Conference-2018/Cholera-Case-Study/data/johnsnownetwork.json\n",
      "  inflating: ../notebooks/PHI-Conference-2018/Cholera-Case-Study/data/johnsnownetwork.json  \n",
      "warning:  skipped \"../\" path component(s) in ../../PHI-Conference-2018/Cholera-Case-Study/.ipynb_checkpoints/\n",
      "   creating: ../notebooks/PHI-Conference-2018/Cholera-Case-Study/.ipynb_checkpoints/\n",
      "warning:  skipped \"../\" path component(s) in ../../PHI-Conference-2018/Cholera-Case-Study/images/\n",
      "   creating: ../notebooks/PHI-Conference-2018/Cholera-Case-Study/images/\n",
      "warning:  skipped \"../\" path component(s) in ../../PHI-Conference-2018/Cholera-Case-Study/resources/\n",
      "   creating: ../notebooks/PHI-Conference-2018/Cholera-Case-Study/resources/\n",
      "warning:  skipped \"../\" path component(s) in ../../PHI-Conference-2018/Jupyter-Notebook-Basics/\n",
      "   creating: ../notebooks/PHI-Conference-2018/Jupyter-Notebook-Basics/\n",
      "warning:  skipped \"../\" path component(s) in ../../PHI-Conference-2018/Jupyter-Notebook-Basics/audio/\n",
      "   creating: ../notebooks/PHI-Conference-2018/Jupyter-Notebook-Basics/audio/\n",
      "warning:  skipped \"../\" path component(s) in ../../PHI-Conference-2018/Jupyter-Notebook-Basics/audio/helloWorld!.mp3\n",
      "  inflating: ../notebooks/PHI-Conference-2018/Jupyter-Notebook-Basics/audio/helloWorld!.mp3  \n",
      "warning:  skipped \"../\" path component(s) in ../../PHI-Conference-2018/Jupyter-Notebook-Basics/cache/\n",
      "   creating: ../notebooks/PHI-Conference-2018/Jupyter-Notebook-Basics/cache/\n",
      "warning:  skipped \"../\" path component(s) in ../../PHI-Conference-2018/Jupyter-Notebook-Basics/GEEKS-Case-Study-Notebook-0-Jupyter.ipynb\n",
      "  inflating: ../notebooks/PHI-Conference-2018/Jupyter-Notebook-Basics/GEEKS-Case-Study-Notebook-0-Jupyter.ipynb  \n",
      "warning:  skipped \"../\" path component(s) in ../../PHI-Conference-2018/Jupyter-Notebook-Basics/images/\n",
      "   creating: ../notebooks/PHI-Conference-2018/Jupyter-Notebook-Basics/images/\n",
      "warning:  skipped \"../\" path component(s) in ../../PHI-Conference-2018/Jupyter-Notebook-Basics/images/Shift-Enter.png\n",
      "  inflating: ../notebooks/PHI-Conference-2018/Jupyter-Notebook-Basics/images/Shift-Enter.png  \n",
      "warning:  skipped \"../\" path component(s) in ../../PHI-Conference-2018/Jupyter-Notebook-Basics/images/python.png\n",
      "  inflating: ../notebooks/PHI-Conference-2018/Jupyter-Notebook-Basics/images/python.png  \n",
      "warning:  skipped \"../\" path component(s) in ../../PHI-Conference-2018/Jupyter-Notebook-Basics/images/IVC3.png\n",
      "  inflating: ../notebooks/PHI-Conference-2018/Jupyter-Notebook-Basics/images/IVC3.png  \n",
      "warning:  skipped \"../\" path component(s) in ../../PHI-Conference-2018/Jupyter-Notebook-Basics/images/digitalcities.jpeg\n",
      "  inflating: ../notebooks/PHI-Conference-2018/Jupyter-Notebook-Basics/images/digitalcities.jpeg  \n",
      "warning:  skipped \"../\" path component(s) in ../../PHI-Conference-2018/Jupyter-Notebook-Basics/images/disruptive_tech.png\n",
      "  inflating: ../notebooks/PHI-Conference-2018/Jupyter-Notebook-Basics/images/disruptive_tech.png  \n",
      "warning:  skipped \"../\" path component(s) in ../../PHI-Conference-2018/Jupyter-Notebook-Basics/images/.ipynb_checkpoints/\n",
      "   creating: ../notebooks/PHI-Conference-2018/Jupyter-Notebook-Basics/images/.ipynb_checkpoints/\n",
      "warning:  skipped \"../\" path component(s) in ../../PHI-Conference-2018/Jupyter-Notebook-Basics/images/.ipynb_checkpoints/Shift-Enter-checkpoint.png\n",
      "  inflating: ../notebooks/PHI-Conference-2018/Jupyter-Notebook-Basics/images/.ipynb_checkpoints/Shift-Enter-checkpoint.png  \n",
      "warning:  skipped \"../\" path component(s) in ../../PHI-Conference-2018/Jupyter-Notebook-Basics/images/.ipynb_checkpoints/python-checkpoint.png\n",
      "  inflating: ../notebooks/PHI-Conference-2018/Jupyter-Notebook-Basics/images/.ipynb_checkpoints/python-checkpoint.png  \n",
      "warning:  skipped \"../\" path component(s) in ../../PHI-Conference-2018/Jupyter-Notebook-Basics/images/.ipynb_checkpoints/digitalcities-checkpoint.jpeg\n",
      "  inflating: ../notebooks/PHI-Conference-2018/Jupyter-Notebook-Basics/images/.ipynb_checkpoints/digitalcities-checkpoint.jpeg  \n",
      "warning:  skipped \"../\" path component(s) in ../../PHI-Conference-2018/Jupyter-Notebook-Basics/outputs/\n",
      "   creating: ../notebooks/PHI-Conference-2018/Jupyter-Notebook-Basics/outputs/\n",
      "warning:  skipped \"../\" path component(s) in ../../PHI-Conference-2018/Jupyter-Notebook-Basics/resources/\n",
      "   creating: ../notebooks/PHI-Conference-2018/Jupyter-Notebook-Basics/resources/\n",
      "warning:  skipped \"../\" path component(s) in ../../PHI-Conference-2018/Jupyter-Notebook-Basics/resources/.ipynb_checkpoints/\n",
      "   creating: ../notebooks/PHI-Conference-2018/Jupyter-Notebook-Basics/resources/.ipynb_checkpoints/\n",
      "warning:  skipped \"../\" path component(s) in ../../PHI-Conference-2018/Jupyter-Notebook-Basics/.ipynb_checkpoints/\n",
      "   creating: ../notebooks/PHI-Conference-2018/Jupyter-Notebook-Basics/.ipynb_checkpoints/\n",
      "warning:  skipped \"../\" path component(s) in ../../PHI-Conference-2018/Jupyter-Notebook-Basics/.ipynb_checkpoints/GEEKS-Case-Study-Notebook-0-Jupyter-checkpoint.ipynb\n",
      "  inflating: ../notebooks/PHI-Conference-2018/Jupyter-Notebook-Basics/.ipynb_checkpoints/GEEKS-Case-Study-Notebook-0-Jupyter-checkpoint.ipynb  \n",
      "warning:  skipped \"../\" path component(s) in ../../PHI-Conference-2018/Packaging-Notebook/\n",
      "   creating: ../notebooks/PHI-Conference-2018/Packaging-Notebook/\n",
      "warning:  skipped \"../\" path component(s) in ../../PHI-Conference-2018/Packaging-Notebook/.ipynb_checkpoints/\n",
      "   creating: ../notebooks/PHI-Conference-2018/Packaging-Notebook/.ipynb_checkpoints/\n",
      "warning:  skipped \"../\" path component(s) in ../../PHI-Conference-2018/Packaging-Notebook/.ipynb_checkpoints/Packaging-Notebook-checkpoint.ipynb\n",
      "  inflating: ../notebooks/PHI-Conference-2018/Packaging-Notebook/.ipynb_checkpoints/Packaging-Notebook-checkpoint.ipynb  \n",
      "warning:  skipped \"../\" path component(s) in ../../PHI-Conference-2018/Packaging-Notebook/Packaging-Notebook.ipynb\n",
      "  inflating: ../notebooks/PHI-Conference-2018/Packaging-Notebook/Packaging-Notebook.ipynb  \n",
      "warning:  skipped \"../\" path component(s) in ../../PHI-Conference-2018/README.ipynb\n",
      "  inflating: ../notebooks/PHI-Conference-2018/README.ipynb  \n",
      "warning:  skipped \"../\" path component(s) in ../../PHI-Conference-2018/resources/\n",
      "   creating: ../notebooks/PHI-Conference-2018/resources/\n",
      "warning:  skipped \"../\" path component(s) in ../../PHI-Conference-2018/resources/style.css\n",
      "  inflating: ../notebooks/PHI-Conference-2018/resources/style.css  \n",
      "warning:  skipped \"../\" path component(s) in ../../PHI-Conference-2018/resources/library.py\n",
      "  inflating: ../notebooks/PHI-Conference-2018/resources/library.py  \n"
     ]
    }
   ],
   "source": [
    "%%bash\n",
    "unzip Cholera-Case-Study.zip -d ../notebooks/"
   ]
  },
  {
   "cell_type": "code",
   "execution_count": 4,
   "metadata": {},
   "outputs": [
    {
     "name": "stdout",
     "output_type": "stream",
     "text": [
      "total 36\n",
      "drwxr-xr-x 8 jovyan users 4096 Aug 11 20:39 .\n",
      "drwxrwxrwx 3 jovyan users 4096 Aug 16 17:10 ..\n",
      "drwxr-xr-x 6 jovyan users 4096 Aug  8 17:28 Cholera-Case-Study\n",
      "drwxr-xr-x 6 jovyan users 4096 Aug 16 06:45 Exercise-Notebooks\n",
      "drwxr-xr-x 2 jovyan users 4096 Aug  9 10:42 .ipynb_checkpoints\n",
      "drwxr-xr-x 8 jovyan users 4096 Aug 11 20:45 Jupyter-Notebook-Basics\n",
      "drwxr-xr-x 3 jovyan users 4096 Aug 16 14:55 Packaging-Notebook\n",
      "-rw-r--r-- 1 jovyan users 2616 Aug  9 15:56 README.ipynb\n",
      "drwxr-xr-x 2 jovyan users 4096 Aug 11 20:43 resources\n"
     ]
    }
   ],
   "source": [
    "%%bash\n",
    "ls -la ../notebooks/PHI-Conference-2018"
   ]
  },
  {
   "cell_type": "code",
   "execution_count": null,
   "metadata": {},
   "outputs": [],
   "source": []
  }
 ],
 "metadata": {
  "kernelspec": {
   "display_name": "Python 3",
   "language": "python",
   "name": "python3"
  },
  "language_info": {
   "codemirror_mode": {
    "name": "ipython",
    "version": 3
   },
   "file_extension": ".py",
   "mimetype": "text/x-python",
   "name": "python",
   "nbconvert_exporter": "python",
   "pygments_lexer": "ipython3",
   "version": "3.6.6"
  },
  "nbTranslate": {
   "displayLangs": [
    "*"
   ],
   "hotkey": "alt-t",
   "langInMainMenu": true,
   "sourceLang": "en",
   "targetLang": "fr",
   "useGoogleTranslate": true
  },
  "toc": {
   "base_numbering": 1,
   "nav_menu": {},
   "number_sections": false,
   "sideBar": false,
   "skip_h1_title": false,
   "title_cell": "Table of Contents",
   "title_sidebar": "Contents",
   "toc_cell": false,
   "toc_position": {},
   "toc_section_display": false,
   "toc_window_display": false
  }
 },
 "nbformat": 4,
 "nbformat_minor": 2
}
